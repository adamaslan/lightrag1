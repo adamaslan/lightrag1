{
 "cells": [
  {
   "cell_type": "code",
   "execution_count": 2,
   "metadata": {},
   "outputs": [
    {
     "name": "stdout",
     "output_type": "stream",
     "text": [
      "Libraries to be installed:\n",
      "lightrag\n",
      "pydantic\n",
      "fastapi\n",
      "lightrag.llm.ollama\n",
      "nest_asyncio\n",
      "contextlib\n",
      "lightrag.utils\n",
      "aiofiles\n",
      "asyncio\n",
      "os\n",
      "lightrag.kg.shared_storage\n",
      "uvicorn\n",
      "typing\n"
     ]
    }
   ],
   "source": [
    "#extracts all the libraries in a file - useful for then pip installing all the libraries u copy from the cell output\n",
    "import nbformat\n",
    "\n",
    "# Load the notebook\n",
    "with open('chatbot1.ipynb') as f:\n",
    "    nb = nbformat.read(f, as_version=4)\n",
    "\n",
    "# Extract code cells\n",
    "code_cells = [cell for cell in nb.cells if cell.cell_type == 'code']\n",
    "\n",
    "# List to store libraries\n",
    "libraries = set()\n",
    "\n",
    "# Iterate through code cells\n",
    "for cell in code_cells:\n",
    "    for line in cell.source.split('\\n'):\n",
    "        line = line.strip()\n",
    "        if line.startswith('import '):\n",
    "            lib = line.split(' ')[1]\n",
    "            libraries.add(lib)\n",
    "        elif line.startswith('from '):\n",
    "            lib = line.split(' ')[1]\n",
    "            libraries.add(lib)\n",
    "\n",
    "# Display the libraries\n",
    "print(\"Libraries to be installed:\")\n",
    "for lib in libraries:\n",
    "    print(lib)\n"
   ]
  }
 ],
 "metadata": {
  "kernelspec": {
   "display_name": "nunu24",
   "language": "python",
   "name": "python3"
  },
  "language_info": {
   "codemirror_mode": {
    "name": "ipython",
    "version": 3
   },
   "file_extension": ".py",
   "mimetype": "text/x-python",
   "name": "python",
   "nbconvert_exporter": "python",
   "pygments_lexer": "ipython3",
   "version": "3.12.7"
  }
 },
 "nbformat": 4,
 "nbformat_minor": 2
}
